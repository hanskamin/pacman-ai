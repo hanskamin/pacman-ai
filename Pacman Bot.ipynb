{
 "cells": [
  {
   "cell_type": "markdown",
   "metadata": {},
   "source": [
    "# Pacman.ai\n",
    "---\n",
    "*by Hans Kamin & David Lutze*  \n",
    "\n",
    "An artificial intelligence that learns how to beat the game *Ms. Pacman* using Deep Q Learning.    \n",
    "\n",
    "A very grateful shout-out to the YouTuber Siraj Raval for teaching us what we needed to know to create this through his awesome [video](https://www.youtube.com/watch?v=79pmNdyxEGo)!"
   ]
  },
  {
   "cell_type": "code",
   "execution_count": 1,
   "metadata": {
    "collapsed": true
   },
   "outputs": [
    {
     "name": "stderr",
     "output_type": "stream",
     "text": [
      "/Library/Frameworks/Python.framework/Versions/3.6/lib/python3.6/importlib/_bootstrap.py:205: RuntimeWarning: compiletime version 3.5 of module 'tensorflow.python.framework.fast_tensor_util' does not match runtime version 3.6\n",
      "  return f(*args, **kwds)\n",
      "Using TensorFlow backend.\n"
     ]
    }
   ],
   "source": [
    "# Gym contains the game environment.\n",
    "import gym\n",
    "\n",
    "# We need these libraries for various jobs.\n",
    "import random\n",
    "import numpy as np\n",
    "import tensorflow as tf\n",
    "\n",
    "# Deque is used for storing moves. It minimizes storage.\n",
    "from collections import deque\n",
    "\n",
    "# Sequential network, creating one layer at a time.\n",
    "from keras.models import Sequential \n",
    "\n",
    "# Dense layers are standard, fully connected layers. \n",
    "from keras.layers import Dense"
   ]
  },
  {
   "cell_type": "code",
   "execution_count": 4,
   "metadata": {},
   "outputs": [],
   "source": [
    "# Initialize the Pacman environment & the network.\n",
    "game = gym.make(\"MsPacman-v0\")\n",
    "net = Sequential()\n",
    "\n",
    "# Save important details about the game environment.\n",
    "state_size = game.observation_space.shape[0]\n",
    "action_size = game.action_space.n"
   ]
  },
  {
   "cell_type": "code",
   "execution_count": 6,
   "metadata": {},
   "outputs": [],
   "source": [
    "# Add layers to the network for each state.\n",
    "# Inputs to the network are game states.\n",
    "# Outputs are Q-vals of potential actions.\n",
    "net.add(Dense(20, input_dim=state_size, activation=\"relu\")) \n",
    "\n",
    "net.add(Dense(18, activation='relu'))\n",
    "net.add(Dense(10, activation='relu'))\n",
    "\n",
    "# We need the number of outputs to equal the number of potential actions.\n",
    "net.add(Dense(action_size, activation=\"linear\"))\n",
    "\n",
    "# Compile the inputs to calculate our Q-values.\n",
    "net.compile(loss=\"mse\", optimizer=\"adam\", metrics=[\"accuracy\"])"
   ]
  },
  {
   "cell_type": "code",
   "execution_count": 7,
   "metadata": {},
   "outputs": [],
   "source": [
    "# Declare & initialize more settings we'll need.\n",
    "storage = deque(maxlen=2000)\n",
    "discount_rate = .95\n",
    "explore_rate = 1.0\n",
    "explore_min = .01\n",
    "explore_decay = .995\n",
    "learning_rate = .001"
   ]
  },
  {
   "cell_type": "code",
   "execution_count": null,
   "metadata": {},
   "outputs": [],
   "source": [
    "'''Generate an action for the bot to take.'''\n",
    "def perform_action(state):\n",
    "    # Make a completely random move if exploration rate\n",
    "    # is low or unchanged. Else, make educated guess.\n",
    "    if np.random.rand() <= explore_rate:\n",
    "        return random.randrange(action_size)\n",
    "    else:\n",
    "        action_vals = net.predict(state)\n",
    "        return np.argmax(action_vals[0])"
   ]
  },
  {
   "cell_type": "code",
   "execution_count": null,
   "metadata": {},
   "outputs": [],
   "source": [
    "'''Save the parameters that led to defeat so we can learn from them.'''\n",
    "def record_results(action, reward, state, next_state, game_over):\n",
    "    storage.append((action, reward, state, next_state, game_over))"
   ]
  },
  {
   "cell_type": "code",
   "execution_count": null,
   "metadata": {},
   "outputs": [],
   "source": [
    "def replay_game(batch_size):"
   ]
  },
  {
   "cell_type": "code",
   "execution_count": null,
   "metadata": {},
   "outputs": [],
   "source": [
    "num_games = 1000\n",
    "batch_size = 32\n",
    "game_over = False\n",
    "\n",
    "for i in range(num_games):\n",
    "    state = game.reset()\n",
    "    state = np.reshape(state, [1,state_size])\n",
    "    for time in range(500):\n",
    "        #game.render()\n",
    "        action = perform_action(state)\n",
    "        next_state, reward, game_over, x = game.step(action)\n",
    "        reward = reward if not game_over else -10\n",
    "        next_state = np.reshape(next_state, [1,state_size])\n",
    "        record_results(action, reward, state, next_state, game_over)\n",
    "        state = next_state\n",
    "        if game_over:\n",
    "            print (\"game: {} of {}, time alive: {}, exploration rate: {:.2}\"\n",
    "                  .format(i, num_games, time, explore_rate))\n",
    "            break\n",
    "    if len(storage) > batch_size:\n",
    "        replay_game(batch_size)"
   ]
  }
 ],
 "metadata": {
  "kernelspec": {
   "display_name": "Python 3",
   "language": "python",
   "name": "python3"
  },
  "language_info": {
   "codemirror_mode": {
    "name": "ipython",
    "version": 3
   },
   "file_extension": ".py",
   "mimetype": "text/x-python",
   "name": "python",
   "nbconvert_exporter": "python",
   "pygments_lexer": "ipython3",
   "version": "3.6.1"
  }
 },
 "nbformat": 4,
 "nbformat_minor": 2
}
